{
 "cells": [
  {
   "cell_type": "code",
   "id": "initial_id",
   "metadata": {
    "collapsed": true,
    "ExecuteTime": {
     "end_time": "2025-04-11T05:56:07.500658Z",
     "start_time": "2025-04-11T05:56:07.495945Z"
    }
   },
   "source": [
    "import pandas as pd\n",
    "import numpy as np\n",
    "from sklearn.model_selection import train_test_split, cross_val_score\n",
    "from sklearn.preprocessing import StandardScaler, LabelEncoder\n",
    "from sklearn.ensemble import RandomForestClassifier\n",
    "from xgboost import XGBClassifier\n",
    "from sklearn.linear_model import LogisticRegression\n",
    "from sklearn.ensemble import StackingClassifier\n",
    "from sklearn.feature_selection import SelectFromModel\n",
    "from sklearn.cluster import KMeans\n",
    "from sklearn.metrics import silhouette_score, accuracy_score\n",
    "from imblearn.over_sampling import SMOTE\n",
    "import matplotlib.pyplot as plt\n",
    "import seaborn as sns\n",
    "import warnings\n",
    "\n",
    "warnings.filterwarnings('ignore')"
   ],
   "outputs": [],
   "execution_count": 9
  },
  {
   "metadata": {
    "ExecuteTime": {
     "end_time": "2025-04-11T05:56:08.083846Z",
     "start_time": "2025-04-11T05:56:07.506449Z"
    }
   },
   "cell_type": "code",
   "source": [
    "# 加载数据\n",
    "data = pd.read_excel('./data/cleaned_data.xlsx', sheet_name='Sheet1')"
   ],
   "id": "9e45b81076c752bf",
   "outputs": [],
   "execution_count": 10
  },
  {
   "metadata": {
    "ExecuteTime": {
     "end_time": "2025-04-11T05:56:08.093639Z",
     "start_time": "2025-04-11T05:56:08.085527Z"
    }
   },
   "cell_type": "code",
   "source": [
    "# 分离特征和标签\n",
    "X = data.drop(columns=[\"label\"])\n",
    "Y = data[\"label\"]\n",
    "\n",
    "# 编码标签\n",
    "label_encoder = LabelEncoder()\n",
    "y = label_encoder.fit_transform(Y)\n",
    "\n",
    "# 标准化特征\n",
    "scaler = StandardScaler()\n",
    "X_scaled = scaler.fit_transform(X)"
   ],
   "id": "d7c5498506ec5c97",
   "outputs": [],
   "execution_count": 11
  },
  {
   "metadata": {
    "ExecuteTime": {
     "end_time": "2025-04-11T05:56:08.772361Z",
     "start_time": "2025-04-11T05:56:08.094642Z"
    }
   },
   "cell_type": "code",
   "source": [
    "# 特征选择（基于 XGBoost 特征重要性）\n",
    "xgb_selector = XGBClassifier(\n",
    "    objective=\"binary:logistic\",\n",
    "    eval_metric=\"logloss\",\n",
    "    max_depth=6,\n",
    "    learning_rate=0.1,\n",
    "    n_estimators=800\n",
    ")\n",
    "selector = SelectFromModel(xgb_selector, threshold='median')\n",
    "X_selected = selector.fit_transform(X_scaled, y)\n",
    "selected_features = X.columns[selector.get_support()]"
   ],
   "id": "4eae1186902be9d",
   "outputs": [],
   "execution_count": 12
  },
  {
   "metadata": {
    "ExecuteTime": {
     "end_time": "2025-04-11T05:56:09.240656Z",
     "start_time": "2025-04-11T05:56:08.774357Z"
    }
   },
   "cell_type": "code",
   "source": [
    "# 特征聚类\n",
    "def cluster_features(X, feature_names, max_clusters=10):\n",
    "    silhouette_scores = []\n",
    "    for n_clusters in range(2, max_clusters + 1):\n",
    "        kmeans = KMeans(n_clusters=n_clusters, random_state=42)\n",
    "        labels = kmeans.fit_predict(X.T)\n",
    "        score = silhouette_score(X.T, labels)\n",
    "        silhouette_scores.append(score)\n",
    "    optimal_clusters = np.argmax(silhouette_scores) + 2\n",
    "    kmeans = KMeans(n_clusters=optimal_clusters, random_state=42)\n",
    "    cluster_labels = kmeans.fit_predict(X.T)\n",
    "    clusters = {}\n",
    "    for idx, label in enumerate(cluster_labels):\n",
    "        clusters.setdefault(label, []).append(feature_names[idx])\n",
    "    return clusters\n",
    "\n",
    "clusters = cluster_features(X_selected, selected_features)\n",
    "\n",
    "# 从每个聚类中选取一个代表特征\n",
    "representative_features = []\n",
    "for features in clusters.values():\n",
    "    for f in features[:2]:  # 每个聚类保留2个\n",
    "        representative_features.append(f)\n",
    "X_reduced = pd.DataFrame(X_scaled, columns=X.columns)[representative_features]\n",
    "\n",
    "# 移除可能存在标签错误的样本\n",
    "def remove_ambiguous_samples(X, y, threshold=0.5):\n",
    "    model = XGBClassifier(\n",
    "        objective=\"binary:logistic\",\n",
    "        eval_metric=\"logloss\",\n",
    "        max_depth=5,\n",
    "        learning_rate=0.05,\n",
    "        n_estimators=1000,\n",
    "        min_child_weight=3,\n",
    "        subsample=0.7,\n",
    "        colsample_bytree=0.7,\n",
    "        gamma=0.2,\n",
    "        alpha=0.1,\n",
    "        reg_lambda=2\n",
    "    )\n",
    "    model.fit(X, y)\n",
    "    proba = model.predict_proba(X)\n",
    "    max_proba = np.max(proba, axis=1)\n",
    "    mask = max_proba >= threshold\n",
    "    return X[mask], y[mask]\n",
    "\n",
    "X_clean, y_clean = remove_ambiguous_samples(X_reduced, y, threshold=0.3)"
   ],
   "id": "60a8997e1622036",
   "outputs": [],
   "execution_count": 13
  },
  {
   "metadata": {
    "ExecuteTime": {
     "end_time": "2025-04-11T05:56:09.259595Z",
     "start_time": "2025-04-11T05:56:09.243649Z"
    }
   },
   "cell_type": "code",
   "source": [
    "# 划分训练集和测试集\n",
    "X_train, X_test, y_train, y_test = train_test_split(X_clean, y_clean, test_size=0.2, stratify=y_clean, random_state=42)\n",
    "\n",
    "# 处理类别不平衡\n",
    "smote = SMOTE(random_state=42)\n",
    "X_train_resampled, y_train_resampled = smote.fit_resample(X_train, y_train)\n"
   ],
   "id": "4798d429ae370919",
   "outputs": [],
   "execution_count": 14
  },
  {
   "metadata": {
    "ExecuteTime": {
     "end_time": "2025-04-11T05:56:26.940603Z",
     "start_time": "2025-04-11T05:56:09.261095Z"
    }
   },
   "cell_type": "code",
   "source": [
    "# 定义基模型\n",
    "base_learners = [\n",
    "    ('xgb', XGBClassifier(\n",
    "        objective=\"binary:logistic\",\n",
    "        eval_metric=\"logloss\",\n",
    "        max_depth=5,\n",
    "        learning_rate=0.05,\n",
    "        n_estimators=1000,\n",
    "        min_child_weight=3,\n",
    "        subsample=0.7,\n",
    "        colsample_bytree=0.7,\n",
    "        gamma=0.2,\n",
    "        alpha=0.1,\n",
    "        reg_lambda=2\n",
    "    )),\n",
    "    ('rf', RandomForestClassifier(\n",
    "        n_estimators=300,\n",
    "        max_depth=8,\n",
    "        min_samples_split=5,\n",
    "        min_samples_leaf=3,\n",
    "        max_features='log2',\n",
    "        class_weight='balanced',\n",
    "        random_state=42\n",
    "    ))\n",
    "]\n",
    "\n",
    "# 定义元学习器\n",
    "meta_learner = LogisticRegression()\n",
    "\n",
    "# 构建堆叠模型\n",
    "stacking_model = StackingClassifier(estimators=base_learners, final_estimator=meta_learner)\n",
    "\n",
    "# 交叉验证\n",
    "scores = cross_val_score(stacking_model, X_train_resampled, y_train_resampled, cv=5, scoring='accuracy')\n",
    "print(f\"交叉验证准确率: {scores.mean():.4f} ± {scores.std():.4f}\")\n"
   ],
   "id": "568488fe070f23f",
   "outputs": [
    {
     "name": "stdout",
     "output_type": "stream",
     "text": [
      "交叉验证准确率: 0.8741 ± 0.0320\n"
     ]
    }
   ],
   "execution_count": 15
  },
  {
   "metadata": {
    "ExecuteTime": {
     "end_time": "2025-04-11T05:56:30.757423Z",
     "start_time": "2025-04-11T05:56:26.942604Z"
    }
   },
   "cell_type": "code",
   "source": [
    "# 训练模型\n",
    "stacking_model.fit(X_train_resampled, y_train_resampled)\n",
    "\n",
    "# 预测并评估\n",
    "y_train_pred = stacking_model.predict(X_train_resampled)\n",
    "y_test_pred = stacking_model.predict(X_test)\n",
    "\n",
    "train_accuracy = accuracy_score(y_train_resampled, y_train_pred)\n",
    "test_accuracy = accuracy_score(y_test, y_test_pred)\n",
    "\n",
    "print(f\"训练集准确率: {train_accuracy:.4f}\")\n",
    "print(f\"测试集准确率: {test_accuracy:.4f}\")"
   ],
   "id": "11d6e07797935d35",
   "outputs": [
    {
     "name": "stdout",
     "output_type": "stream",
     "text": [
      "训练集准确率: 0.9892\n",
      "测试集准确率: 0.8085\n"
     ]
    }
   ],
   "execution_count": 16
  }
 ],
 "metadata": {
  "kernelspec": {
   "display_name": "Python 3",
   "language": "python",
   "name": "python3"
  },
  "language_info": {
   "codemirror_mode": {
    "name": "ipython",
    "version": 2
   },
   "file_extension": ".py",
   "mimetype": "text/x-python",
   "name": "python",
   "nbconvert_exporter": "python",
   "pygments_lexer": "ipython2",
   "version": "2.7.6"
  }
 },
 "nbformat": 4,
 "nbformat_minor": 5
}
