{
 "cells": [
  {
   "cell_type": "code",
   "id": "initial_id",
   "metadata": {
    "collapsed": true,
    "ExecuteTime": {
     "end_time": "2025-03-04T04:56:43.313539Z",
     "start_time": "2025-03-04T04:56:43.307543Z"
    }
   },
   "source": [
    "# 引用用到的文件\n",
    "import pandas as pd\n",
    "import numpy as np\n",
    "from sklearn.model_selection import train_test_split,GridSearchCV\n",
    "from sklearn.preprocessing import StandardScaler,LabelEncoder\n",
    "from sklearn.metrics import accuracy_score,classification_report,confusion_matrix\n",
    "from sklearn.ensemble import RandomForestClassifier\n",
    "from xgboost import XGBClassifier\n",
    "from sklearn.linear_model import LogisticRegression\n",
    "from sklearn.ensemble import StackingClassifier\n",
    "import matplotlib.pyplot as plt\n",
    "from sklearn.manifold import TSNE\n",
    "import seaborn as sns\n",
    "from sklearn.cluster import KMeans\n",
    "\n",
    "print(\"引用文件成功\")"
   ],
   "outputs": [
    {
     "name": "stdout",
     "output_type": "stream",
     "text": [
      "引用文件成功\n"
     ]
    }
   ],
   "execution_count": 149
  },
  {
   "cell_type": "code",
   "id": "6394f9bc1e93b059",
   "metadata": {
    "ExecuteTime": {
     "end_time": "2025-03-04T04:56:43.892298Z",
     "start_time": "2025-03-04T04:56:43.316045Z"
    }
   },
   "source": [
    "# 加载数据\n",
    "data = pd.read_excel('./data/cleaned_data.xlsx', sheet_name='Sheet1')"
   ],
   "outputs": [],
   "execution_count": 150
  },
  {
   "cell_type": "code",
   "id": "98bb79638fed9e48",
   "metadata": {
    "ExecuteTime": {
     "end_time": "2025-03-04T04:56:43.899729Z",
     "start_time": "2025-03-04T04:56:43.894309Z"
    }
   },
   "source": [
    "# 加载数据和标签\n",
    "X = data.drop(columns=[\"label\"])\n",
    "Y = data[\"label\"]"
   ],
   "outputs": [],
   "execution_count": 151
  },
  {
   "cell_type": "code",
   "id": "b72d7794f969ed7c",
   "metadata": {
    "ExecuteTime": {
     "end_time": "2025-03-04T04:56:43.904731Z",
     "start_time": "2025-03-04T04:56:43.900731Z"
    }
   },
   "source": [
    "# 将标签转化为整型\n",
    "label_encoder = LabelEncoder()\n",
    "y = label_encoder.fit_transform(Y)"
   ],
   "outputs": [],
   "execution_count": 152
  },
  {
   "cell_type": "code",
   "id": "8d1e9d1cefecca64",
   "metadata": {
    "ExecuteTime": {
     "end_time": "2025-03-04T04:56:43.915245Z",
     "start_time": "2025-03-04T04:56:43.906236Z"
    }
   },
   "source": [
    "# 将数据变为标准差\n",
    "scaler = StandardScaler()\n",
    "X_scaler = scaler.fit_transform(X)"
   ],
   "outputs": [],
   "execution_count": 153
  },
  {
   "cell_type": "code",
   "id": "8a6630ebdb9a0ac0",
   "metadata": {
    "ExecuteTime": {
     "end_time": "2025-03-04T04:56:43.921419Z",
     "start_time": "2025-03-04T04:56:43.915245Z"
    }
   },
   "source": [
    "# 划分数据集和测试集\n",
    "X_train, X_test, y_train, y_test = train_test_split(X_scaler, y, test_size=0.2, stratify=y)"
   ],
   "outputs": [],
   "execution_count": 154
  },
  {
   "cell_type": "code",
   "id": "9d401c0b0582b0e3",
   "metadata": {
    "ExecuteTime": {
     "end_time": "2025-03-04T04:57:12.820610Z",
     "start_time": "2025-03-04T04:56:43.922940Z"
    }
   },
   "source": [
    "from sklearn.model_selection import cross_val_score\n",
    "from imblearn.over_sampling import SMOTE\n",
    "from sklearn.feature_selection import SelectFromModel\n",
    "\n",
    "# 特征选择（基于 XGBoost 特征重要性）\n",
    "xgb_for_feature_selection = XGBClassifier(\n",
    "    objective=\"binary:logistic\",\n",
    "    eval_metric=\"logloss\",\n",
    "    max_depth=6,\n",
    "    learning_rate=0.1,\n",
    "    n_estimators=800\n",
    ")\n",
    "selector = SelectFromModel(xgb_for_feature_selection, threshold='median')\n",
    "X_train_selected = selector.fit_transform(X_train, y_train)\n",
    "\n",
    "# 数据增强（处理类别不平衡）\n",
    "smote = SMOTE()\n",
    "X_train_resampled, y_train_resampled = smote.fit_resample(X_train_selected, y_train)\n",
    "\n",
    "# 标准化特征\n",
    "scaler = StandardScaler()\n",
    "X_train_scaled = scaler.fit_transform(X_train_resampled)\n",
    "\n",
    "# 定义优化后的基模型\n",
    "base_learners = [\n",
    "    ('xgb', XGBClassifier(\n",
    "        objective=\"binary:logistic\",\n",
    "        eval_metric=\"logloss\",\n",
    "        max_depth=5,  # 降低深度\n",
    "        learning_rate=0.05,  # 降低学习率\n",
    "        n_estimators=1000,  # 增加树的数量\n",
    "        min_child_weight=3,\n",
    "        subsample=0.7,\n",
    "        colsample_bytree=0.7,\n",
    "        gamma=0.2,  # 增加正则化\n",
    "        alpha=0.1,  # 增加 L1 正则化\n",
    "        reg_lambda=2  # 增加 L2 正则化\n",
    "    )),\n",
    "    ('rf', RandomForestClassifier(\n",
    "        n_estimators=300,  # 增加树的数量\n",
    "        max_depth=8,  # 限制树的深度\n",
    "        min_samples_split=5,  # 调整最小样本数\n",
    "        min_samples_leaf=3,\n",
    "        max_features='log2',  # 调整特征选择\n",
    "        class_weight='balanced'\n",
    "    ))\n",
    "]\n",
    "\n",
    "# 定义元学习器（使用逻辑回归）\n",
    "meta_learner = LogisticRegression()\n",
    "\n",
    "# 使用 StackingClassifier 构建模型\n",
    "stacking_model = StackingClassifier(estimators=base_learners, final_estimator=meta_learner)\n",
    "\n",
    "# 交叉验证\n",
    "scores = cross_val_score(stacking_model, X_train_scaled, y_train_resampled, cv=5, scoring='accuracy')\n",
    "print(f\"交叉验证准确率: {scores.mean():.4f} ± {scores.std():.4f}\")"
   ],
   "outputs": [
    {
     "name": "stdout",
     "output_type": "stream",
     "text": [
      "交叉验证准确率: 0.9032 ± 0.0509\n"
     ]
    }
   ],
   "execution_count": 155
  },
  {
   "cell_type": "code",
   "id": "9913b91c12bbb44b",
   "metadata": {
    "ExecuteTime": {
     "end_time": "2025-03-04T04:57:17.418768Z",
     "start_time": "2025-03-04T04:57:12.821611Z"
    }
   },
   "source": [
    "# 训练模型\n",
    "eval_set = [(X_test, y_test)]\n",
    "stacking_model.fit(X_train, y_train)\n",
    "\n",
    "# 处理测试集数据（添加以下代码）\n",
    "X_test_selected = selector.transform(X_test)  # 应用特征选择器\n",
    "X_test_scaled = scaler.transform(X_test_selected)  # 应用训练集的标准化器\n"
   ],
   "outputs": [],
   "execution_count": 156
  },
  {
   "cell_type": "code",
   "id": "4954be3ac8d07b0e",
   "metadata": {
    "ExecuteTime": {
     "end_time": "2025-03-04T04:57:17.448666Z",
     "start_time": "2025-03-04T04:57:17.420147Z"
    }
   },
   "source": [
    "# 获取基模型的特征重要性\n",
    "base_models = stacking_model.estimators_\n",
    "feature_importances = []\n",
    "\n",
    "for model in base_models:\n",
    "    if hasattr(model, 'feature_importances_'):\n",
    "        feature_importances.append(model.feature_importances_)\n",
    "    else:\n",
    "        print(f\"Model does not have feature_importances_\")\n",
    "\n",
    "# 如果有多个基模型，计算平均特征重要性\n",
    "if feature_importances:\n",
    "    avg_feature_importances = np.mean(feature_importances, axis=0)\n",
    "else:\n",
    "    print(\"No feature_importances_ available from the base models.\")\n",
    "    avg_feature_importances = None\n",
    "\n",
    "# 获取特征名称\n",
    "feature_names = X.columns\n",
    "\n",
    "# 获取top10并进行打印\n",
    "if avg_feature_importances is not None:\n",
    "    top_features_idx = avg_feature_importances.argsort()[-10:][::-1]\n",
    "    top_feature_name = [feature_names[i] for i in top_features_idx]\n",
    "    print(\"Top 10 Features:\", top_feature_name)\n",
    "else:\n",
    "    print(\"Cannot compute top features due to missing feature_importances_.\")\n"
   ],
   "outputs": [
    {
     "name": "stdout",
     "output_type": "stream",
     "text": [
      "Top 10 Features: ['Gender', '661.0686__496.07', '659.5677__495.82', '659.0663__495.82', '529.3028__44.31', '697.0139__495.82', '654.3022__36.15', '644.4339__397.51', '721.0651__495.08', '514.3122__240.75']\n"
     ]
    }
   ],
   "execution_count": 157
  },
  {
   "cell_type": "code",
   "id": "6aa961a3dc410708",
   "metadata": {
    "ExecuteTime": {
     "end_time": "2025-03-04T04:57:17.510057Z",
     "start_time": "2025-03-04T04:57:17.449674Z"
    }
   },
   "source": [
    "# 预测训练集和测试集\n",
    "y_train_pred = stacking_model.predict(X_train)\n",
    "y_test_pred = stacking_model.predict(X_test)\n",
    "\n",
    "# 计算准确率\n",
    "train_accuracy = accuracy_score(y_train, y_train_pred)\n",
    "test_accuracy = accuracy_score(y_test, y_test_pred)\n",
    "\n",
    "print(f\"训练集准确率: {train_accuracy:.4f}\")\n",
    "print(f\"测试集准确率: {test_accuracy:.4f}\")"
   ],
   "outputs": [
    {
     "name": "stdout",
     "output_type": "stream",
     "text": [
      "训练集准确率: 1.0000\n",
      "测试集准确率: 0.8936\n"
     ]
    }
   ],
   "execution_count": 158
  },
  {
   "cell_type": "code",
   "id": "fc6fc49743455fd6",
   "metadata": {
    "ExecuteTime": {
     "end_time": "2025-03-04T04:57:18.846184Z",
     "start_time": "2025-03-04T04:57:17.512061Z"
    }
   },
   "source": [
    "# 定义颜色和标记\n",
    "colors = ['#FF6B6B', '#4ECDC4']\n",
    "markers = ['o', 's']\n",
    "\n",
    "# 直接使用t-SNE进行降维\n",
    "tsne = TSNE(\n",
    "    n_components=2,\n",
    "    perplexity=30,  # 尝试不同的perplexity值\n",
    "    n_iter=10000,\n",
    "    learning_rate=500\n",
    ")\n",
    "\n",
    "X_tsne = tsne.fit_transform(X_test_scaled)\n",
    "\n",
    "# 绘制t-SNE可视化图\n",
    "plt.figure(figsize=(12, 8))\n",
    "for i, label in enumerate(np.unique(y_test_pred)):\n",
    "    mask = y_test_pred == label\n",
    "    plt.scatter(X_tsne[mask, 0], X_tsne[mask, 1],\n",
    "                c=[colors[i]], marker=markers[i],\n",
    "                label=f'Class {label}', alpha=0.7, s=100)\n",
    "\n",
    "plt.title('t-SNE Visualization (Without Confidence)')\n",
    "plt.grid(True, linestyle='--', alpha=0.2)\n",
    "plt.legend()\n",
    "plt.show()"
   ],
   "outputs": [
    {
     "data": {
      "text/plain": [
       "<Figure size 1200x800 with 1 Axes>"
      ],
      "image/png": "[encoded data removed]"
     },
     "metadata": {},
     "output_type": "display_data"
    }
   ],
   "execution_count": 159
  },
  {
   "cell_type": "code",
   "id": "2d2c09619568e61f",
   "metadata": {
    "ExecuteTime": {
     "end_time": "2025-03-04T05:10:16.877102Z",
     "start_time": "2025-03-04T05:04:40.488464Z"
    }
   },
   "source": [
    "# 导入所需的额外库\n",
    "from sklearn.cluster import KMeans\n",
    "from sklearn.metrics import silhouette_score\n",
    "import warnings\n",
    "warnings.filterwarnings('ignore')\n",
    "\n",
    "# 存储多次运行的结果\n",
    "all_results = {\n",
    "    '训练集准确率': [], '测试集准确率': [],\n",
    "    '去除top10后训练集准确率': [], '去除top10后测试集准确率': [],\n",
    "    '去除top20后训练集准确率': [], '去除top20后测试集准确率': [],\n",
    "    '5折交叉验证准确率': [],\n",
    "    'top10特征': [], 'top20特征': []\n",
    "}\n",
    "\n",
    "# 运行10次评估\n",
    "for run in range(10):\n",
    "    # 划分数据集\n",
    "    X_train, X_test, y_train, y_test = train_test_split(X_scaler, y, test_size=0.2)\n",
    "    \n",
    "    # 特征选择\n",
    "    xgb_for_feature_selection = XGBClassifier(\n",
    "        objective=\"binary:logistic\",\n",
    "        eval_metric=\"logloss\",\n",
    "        max_depth=6,\n",
    "        learning_rate=0.1,\n",
    "        n_estimators=800\n",
    "    )\n",
    "    xgb_for_feature_selection.fit(X_train, y_train)\n",
    "    \n",
    "    # 获取特征重要性\n",
    "    feature_importance = xgb_for_feature_selection.feature_importances_\n",
    "    feature_names = X.columns\n",
    "    importance_df = pd.DataFrame({'feature': feature_names, 'importance': feature_importance})\n",
    "    importance_df = importance_df.sort_values('importance', ascending=False)\n",
    "    \n",
    "    # 保存top特征\n",
    "    all_results['top10特征'].append(importance_df['feature'].head(10).tolist())\n",
    "    all_results['top20特征'].append(importance_df['feature'].head(20).tolist())\n",
    "    \n",
    "    # 训练原始模型\n",
    "    stacking_model.fit(X_train, y_train)\n",
    "    train_pred = stacking_model.predict(X_train)\n",
    "    test_pred = stacking_model.predict(X_test)\n",
    "    \n",
    "    all_results['训练集准确率'].append(accuracy_score(y_train, train_pred))\n",
    "    all_results['测试集准确率'].append(accuracy_score(y_test, test_pred))\n",
    "    \n",
    "    # 去除top10特征\n",
    "    top10_features = importance_df['feature'].head(10).tolist()\n",
    "    X_train_no_top10 = np.delete(X_train, [list(feature_names).index(f) for f in top10_features], axis=1)\n",
    "    X_test_no_top10 = np.delete(X_test, [list(feature_names).index(f) for f in top10_features], axis=1)\n",
    "    \n",
    "    stacking_model.fit(X_train_no_top10, y_train)\n",
    "    train_pred_no_top10 = stacking_model.predict(X_train_no_top10)\n",
    "    test_pred_no_top10 = stacking_model.predict(X_test_no_top10)\n",
    "    \n",
    "    all_results['去除top10后训练集准确率'].append(accuracy_score(y_train, train_pred_no_top10))\n",
    "    all_results['去除top10后测试集准确率'].append(accuracy_score(y_test, test_pred_no_top10))\n",
    "    \n",
    "    # 去除top20特征\n",
    "    top20_features = importance_df['feature'].head(20).tolist()\n",
    "    X_train_no_top20 = np.delete(X_train, [list(feature_names).index(f) for f in top20_features], axis=1)\n",
    "    X_test_no_top20 = np.delete(X_test, [list(feature_names).index(f) for f in top20_features], axis=1)\n",
    "    \n",
    "    stacking_model.fit(X_train_no_top20, y_train)\n",
    "    train_pred_no_top20 = stacking_model.predict(X_train_no_top20)\n",
    "    test_pred_no_top20 = stacking_model.predict(X_test_no_top20)\n",
    "    \n",
    "    all_results['去除top20后训练集准确率'].append(accuracy_score(y_train, train_pred_no_top20))\n",
    "    all_results['去除top20后测试集准确率'].append(accuracy_score(y_test, test_pred_no_top20))\n",
    "    \n",
    "    # 5折交叉验证\n",
    "    cv_scores = cross_val_score(stacking_model, X_train, y_train, cv=5)\n",
    "    all_results['5折交叉验证准确率'].append(cv_scores.mean())\n",
    "\n",
    "# 打印结果表格\n",
    "print(\"=== 模型性能结果表 ===\")\n",
    "print(\" 次数  训练集准确率   测试集准确率  去除top10后训练集准确率  去除top10后测试集准确率  去除top20后训练集准确率  去除top20后测试集准确率  5折交叉验证准确率\")\n",
    "for i in range(10):\n",
    "    print(f\"{i+1:3d}    {all_results['训练集准确率'][i]:.6f} {all_results['测试集准确率'][i]:.6f}    {all_results['去除top10后训练集准确率'][i]:.6f}    {all_results['去除top10后测试集准确率'][i]:.6f}    {all_results['去除top20后训练集准确率'][i]:.6f}    {all_results['去除top20后测试集准确率'][i]:.6f}    {all_results['5折交叉验证准确率'][i]:.6f}\")\n",
    "\n",
    "print(\"\\n平均值    \", end=\"\")\n",
    "for metric in ['训练集准确率', '测试集准确率', '去除top10后训练集准确率', '去除top10后测试集准确率', \n",
    "               '去除top20后训练集准确率', '去除top20后测试集准确率', '5折交叉验证准确率']:\n",
    "    print(f\"{np.mean(all_results[metric]):.6f}    \", end=\"\")\n",
    "\n",
    "# 特征重要性统计\n",
    "print(\"\\n\\n=== 特征出现次数统计 ===\")\n",
    "all_top10 = [item for sublist in all_results['top10特征'] for item in sublist]\n",
    "all_top20 = [item for sublist in all_results['top20特征'] for item in sublist]\n",
    "\n",
    "top10_counts = pd.Series(all_top10).value_counts()\n",
    "top20_counts = pd.Series(all_top20).value_counts()\n",
    "\n",
    "print(\"       Top10特征名称 Top10出现次数        Top20特征名称 Top20出现次数\")\n",
    "for (f10, c10), (f20, c20) in zip(top10_counts.items(), top20_counts.items()):\n",
    "    print(f\"{f10:>15} {c10:>10}    {f20:>15} {c20:>10}\")\n",
    "\n",
    "# 特征聚类和相关性分析\n",
    "important_features = top20_counts.index\n",
    "X_important = X_scaler[:, [list(X.columns).index(f) for f in important_features]]\n",
    "\n",
    "# 聚类分析\n",
    "silhouette_scores = []\n",
    "for n_clusters in range(2, 11):\n",
    "    kmeans = KMeans(n_clusters=n_clusters)\n",
    "    cluster_labels = kmeans.fit_predict(X_important.T)\n",
    "    score = silhouette_score(X_important.T, cluster_labels)\n",
    "    silhouette_scores.append(score)\n",
    "\n",
    "optimal_clusters = np.argmax(silhouette_scores) + 2\n",
    "print(f\"\\n根据手肘法分析，建议的最佳聚类数为: {optimal_clusters}\")\n",
    "\n",
    "kmeans = KMeans(n_clusters=optimal_clusters)\n",
    "cluster_labels = kmeans.fit_predict(X_important.T)\n",
    "\n",
    "print(\"\\n特征聚类结果:\")\n",
    "for i in range(optimal_clusters):\n",
    "    cluster_features = important_features[cluster_labels == i]\n",
    "    print(f\"\\n聚类 {i+1}:\")\n",
    "    print(\", \".join(cluster_features))\n",
    "\n",
    "# 相关性分析\n",
    "corr_matrix = np.corrcoef(X_important.T)\n",
    "print(\"\\n高相关性特征对 (|相关系数| > 0.7):\")\n",
    "for i in range(len(corr_matrix)):\n",
    "    for j in range(i+1, len(corr_matrix)):\n",
    "        if abs(corr_matrix[i,j]) > 0.7:\n",
    "            print(f\"{important_features[i]} 和 {important_features[j]}: {corr_matrix[i,j]:.3f}\")"
   ],
   "outputs": [
    {
     "name": "stdout",
     "output_type": "stream",
     "text": [
      "=== 模型性能结果表 ===\n",
      " 次数  训练集准确率   测试集准确率  去除top10后训练集准确率  去除top10后测试集准确率  去除top20后训练集准确率  去除top20后测试集准确率  5折交叉验证准确率\n",
      "  1    1.000000 0.914894    1.000000    0.936170    1.000000    0.914894    0.810811\n",
      "  2    1.000000 0.787234    1.000000    0.808511    1.000000    0.829787    0.859459\n",
      "  3    0.994595 0.914894    1.000000    0.893617    1.000000    0.872340    0.832432\n",
      "  4    1.000000 0.851064    1.000000    0.851064    1.000000    0.787234    0.827027\n",
      "  5    1.000000 0.872340    0.994595    0.851064    0.994595    0.872340    0.837838\n",
      "  6    1.000000 0.723404    1.000000    0.787234    1.000000    0.765957    0.848649\n",
      "  7    1.000000 0.808511    0.994595    0.787234    1.000000    0.829787    0.864865\n",
      "  8    1.000000 0.914894    1.000000    0.914894    1.000000    0.936170    0.832432\n",
      "  9    1.000000 0.893617    1.000000    0.893617    1.000000    0.893617    0.816216\n",
      " 10    1.000000 0.893617    1.000000    0.893617    1.000000    0.893617    0.821622\n",
      "\n",
      "平均值    0.999459    0.857447    0.998919    0.861702    0.999459    0.859574    0.835135    \n",
      "\n",
      "=== 特征出现次数统计 ===\n",
      "       Top10特征名称 Top10出现次数        Top20特征名称 Top20出现次数\n",
      "         Gender         10             Gender         10\n",
      "692.3231__133.49          7    644.4339__397.51          8\n",
      "692.3231__557.97          5    171.0068__211.2          8\n",
      "171.0068__211.2          5    692.3231__133.49          7\n",
      "697.0139__495.82          5    602.1482__352.92          7\n",
      "605.1422__469.78          4    697.0139__495.82          7\n",
      "602.1482__352.92          4    605.1422__469.78          6\n",
      "644.4339__397.51          4    654.3022__36.15          6\n",
      "529.3282__115.44          3    529.3282__115.44          5\n",
      "659.5677__495.82          3    721.0651__495.08          5\n",
      " 607.128__42.33          2    659.5677__495.82          5\n",
      " 583.1854__36.4          2    692.3231__557.97          5\n",
      "557.1859__451.49          2     511.3986__44.8          4\n",
      "653.2995__40.11          2    562.9549__29.73          4\n",
      "534.0446__451.49          2    653.2995__40.11          4\n",
      "514.3122__35.16          2     583.1854__36.4          4\n",
      "661.0686__496.07          2    73.2299__495.82          3\n",
      "562.9549__29.73          2    543.0365__496.32          3\n",
      "606.3262__364.04          1    659.0663__495.82          3\n",
      "914.2119__498.54          1    547.1363__473.08          3\n",
      "514.3122__44.56          1    529.3028__44.31          3\n",
      "605.1548__501.75          1     607.128__42.33          3\n",
      " 383.1514__41.1          1    557.1859__451.49          3\n",
      "513.2705__259.29          1    534.0446__451.49          3\n",
      "913.2095__498.79          1    501.173__192.41          3\n",
      "333.0392__218.99          1    661.0686__496.07          2\n",
      "828.5553__284.34          1     505.209__47.77          2\n",
      "266.0166__36.15          1     587.3252__40.6          2\n",
      "454.0876__35.16          1    266.0166__36.15          2\n",
      " 587.3252__40.6          1    553.0967__450.25          2\n",
      "767.3118__40.85          1    573.3296__37.88          2\n",
      " 505.209__47.77          1    942.6398__295.22          2\n",
      "  505.209__41.1          1    542.1526__39.86          2\n",
      "505.5397__496.56          1    828.5553__284.34          2\n",
      "659.0663__495.82          1    454.0876__35.16          2\n",
      "824.085__495.82          1    606.3262__364.04          2\n",
      "613.3569__351.44          1    526.0674__614.17          2\n",
      "526.0674__566.86          1    540.3291__247.18          2\n",
      "660.0691__495.82          1    514.3122__35.16          2\n",
      "515.2851__291.76          1    649.214__424.79          2\n",
      "649.214__424.79          1    941.6385__295.46          2\n",
      " 511.3986__44.8          1    627.1893__437.4          2\n",
      "663.0588__495.82          1    660.0691__495.82          2\n",
      "939.6393__295.46          1     383.1514__41.1          1\n",
      "526.0674__614.17          1    966.6574__295.46          1\n",
      "608.1312__42.33          1    526.0674__566.86          1\n",
      "73.2299__495.82          1    514.3122__44.56          1\n",
      "942.6398__295.22          1    738.3412__36.15          1\n",
      "721.0651__495.08          1    942.6398__288.54          1\n",
      "  588.328__40.6          1    333.0392__218.99          1\n",
      "826.5562__284.34          1     672.467__61.46          1\n",
      "550.0679__34.92          1    767.3118__40.85          1\n",
      "\n",
      "根据手肘法分析，建议的最佳聚类数为: 5\n",
      "\n",
      "特征聚类结果:\n",
      "\n",
      "聚类 1:\n",
      "697.0139__495.82, 721.0651__495.08, 659.5677__495.82, 73.2299__495.82, 659.0663__495.82, 661.0686__496.07, 660.0691__495.82, 663.0588__495.82, 824.085__495.82\n",
      "\n",
      "聚类 2:\n",
      "692.3231__133.49, 602.1482__352.92, 529.3282__115.44, 692.3231__557.97, 511.3986__44.8, 557.1859__451.49, 587.3252__40.6, 266.0166__36.15, 606.3262__364.04, 526.0674__614.17, 383.1514__41.1, 526.0674__566.86, 738.3412__36.15, 333.0392__218.99, 767.3118__40.85, 505.5397__496.56, 508.2871__333.15, 497.0847__451.49, 613.3569__351.44, 525.301__111.49, 506.0947__450, 608.1312__42.33, 515.2851__291.76, 914.2119__498.54, 588.328__40.6, 86.2054__315.67\n",
      "\n",
      "聚类 3:\n",
      "171.0068__211.2, 583.1854__36.4, 543.0365__496.32, 505.209__47.77, 542.1526__39.86, 540.3291__247.18, 514.3122__35.16, 627.1893__437.4, 513.2705__259.29, 512.2672__259.29, 582.1823__36.65, 592.791__341.55, 505.209__41.1\n",
      "\n",
      "聚类 4:\n",
      "Gender, 644.4339__397.51, 605.1422__469.78, 654.3022__36.15, 562.9549__29.73, 653.2995__40.11, 547.1363__473.08, 534.0446__451.49, 501.173__192.41, 553.0967__450.25, 942.6398__295.22, 828.5553__284.34, 454.0876__35.16, 649.214__424.79, 941.6385__295.46, 966.6574__295.46, 942.6398__288.54, 672.467__61.46, 913.2095__498.79, 605.1548__501.75, 550.0679__34.92, 631.1099__469.53, 583.1725__499.78, 939.6393__295.46, 829.5571__284.34, 555.0231__38.87, 453.0845__35.16, 951.1559__497.31, 826.5562__284.34\n",
      "\n",
      "聚类 5:\n",
      "529.3028__44.31, 607.128__42.33, 573.3296__37.88, 514.3122__44.56, 506.2459__37.88, 529.3028__61.46, 510.2515__252.12, 529.3028__37.14\n",
      "\n",
      "高相关性特征对 (|相关系数| > 0.7):\n",
      "692.3231__133.49 和 692.3231__557.97: 0.767\n",
      "697.0139__495.82 和 721.0651__495.08: 0.704\n",
      "697.0139__495.82 和 659.5677__495.82: 0.724\n",
      "697.0139__495.82 和 73.2299__495.82: 0.720\n",
      "697.0139__495.82 和 659.0663__495.82: 0.785\n",
      "697.0139__495.82 和 661.0686__496.07: 0.766\n",
      "697.0139__495.82 和 660.0691__495.82: 0.781\n",
      "697.0139__495.82 和 663.0588__495.82: 0.796\n",
      "697.0139__495.82 和 824.085__495.82: 0.721\n",
      "605.1422__469.78 和 547.1363__473.08: 0.710\n",
      "529.3282__115.44 和 525.301__111.49: 0.866\n",
      "721.0651__495.08 和 73.2299__495.82: 0.732\n",
      "721.0651__495.08 和 659.0663__495.82: 0.769\n",
      "721.0651__495.08 和 661.0686__496.07: 0.769\n",
      "721.0651__495.08 和 660.0691__495.82: 0.763\n",
      "721.0651__495.08 和 663.0588__495.82: 0.792\n",
      "659.5677__495.82 和 73.2299__495.82: 0.830\n",
      "659.5677__495.82 和 659.0663__495.82: 0.918\n",
      "659.5677__495.82 和 661.0686__496.07: 0.887\n",
      "659.5677__495.82 和 660.0691__495.82: 0.916\n",
      "659.5677__495.82 和 663.0588__495.82: 0.866\n",
      "659.5677__495.82 和 824.085__495.82: 0.846\n",
      "692.3231__557.97 和 526.0674__614.17: 0.779\n",
      "692.3231__557.97 和 526.0674__566.86: 0.724\n",
      "583.1854__36.4 和 582.1823__36.65: 0.928\n",
      "73.2299__495.82 和 659.0663__495.82: 0.888\n",
      "73.2299__495.82 和 661.0686__496.07: 0.865\n",
      "73.2299__495.82 和 660.0691__495.82: 0.887\n",
      "73.2299__495.82 和 663.0588__495.82: 0.908\n",
      "73.2299__495.82 和 824.085__495.82: 0.753\n",
      "659.0663__495.82 和 661.0686__496.07: 0.945\n",
      "659.0663__495.82 和 660.0691__495.82: 0.998\n",
      "659.0663__495.82 和 663.0588__495.82: 0.968\n",
      "659.0663__495.82 和 824.085__495.82: 0.771\n",
      "547.1363__473.08 和 583.1725__499.78: 0.746\n",
      "529.3028__44.31 和 529.3028__61.46: 0.945\n",
      "529.3028__44.31 和 529.3028__37.14: 0.702\n",
      "661.0686__496.07 和 660.0691__495.82: 0.944\n",
      "661.0686__496.07 和 663.0588__495.82: 0.944\n",
      "661.0686__496.07 和 824.085__495.82: 0.767\n",
      "505.209__47.77 和 505.209__41.1: 0.870\n",
      "573.3296__37.88 和 529.3028__37.14: 0.824\n",
      "942.6398__295.22 和 941.6385__295.46: 0.756\n",
      "942.6398__295.22 和 942.6398__288.54: 0.963\n",
      "942.6398__295.22 和 939.6393__295.46: 0.752\n",
      "828.5553__284.34 和 829.5571__284.34: 0.999\n",
      "828.5553__284.34 和 826.5562__284.34: 1.000\n",
      "454.0876__35.16 和 550.0679__34.92: 0.733\n",
      "454.0876__35.16 和 453.0845__35.16: 0.764\n",
      "526.0674__614.17 和 526.0674__566.86: 0.904\n",
      "514.3122__35.16 和 514.3122__44.56: 0.728\n",
      "941.6385__295.46 和 966.6574__295.46: 0.717\n",
      "941.6385__295.46 和 942.6398__288.54: 0.710\n",
      "941.6385__295.46 和 939.6393__295.46: 0.983\n",
      "660.0691__495.82 和 663.0588__495.82: 0.966\n",
      "660.0691__495.82 和 824.085__495.82: 0.771\n",
      "966.6574__295.46 和 939.6393__295.46: 0.710\n",
      "942.6398__288.54 和 939.6393__295.46: 0.709\n",
      "333.0392__218.99 和 505.5397__496.56: 0.705\n",
      "913.2095__498.79 和 605.1548__501.75: 0.733\n",
      "913.2095__498.79 和 583.1725__499.78: 0.895\n",
      "913.2095__498.79 和 951.1559__497.31: 0.819\n",
      "605.1548__501.75 和 583.1725__499.78: 0.833\n",
      "497.0847__451.49 和 588.328__40.6: 0.734\n",
      "583.1725__499.78 和 951.1559__497.31: 0.741\n",
      "613.3569__351.44 和 588.328__40.6: 0.709\n",
      "613.3569__351.44 和 86.2054__315.67: 0.833\n",
      "525.301__111.49 和 86.2054__315.67: 0.700\n",
      "829.5571__284.34 和 826.5562__284.34: 0.999\n",
      "555.0231__38.87 和 453.0845__35.16: 0.787\n",
      "588.328__40.6 和 86.2054__315.67: 0.762\n",
      "663.0588__495.82 和 824.085__495.82: 0.754\n"
     ]
    }
   ],
   "execution_count": 161
  },
  {
   "metadata": {
    "ExecuteTime": {
     "end_time": "2025-03-04T05:02:59.896375Z",
     "start_time": "2025-03-04T05:02:59.893375Z"
    }
   },
   "cell_type": "code",
   "source": "",
   "id": "46cab13c63cda7b5",
   "outputs": [],
   "execution_count": 160
  }
 ],
 "metadata": {
  "kernelspec": {
   "display_name": "Python 3",
   "language": "python",
   "name": "python3"
  },
  "language_info": {
   "codemirror_mode": {
    "name": "ipython",
    "version": 2
   },
   "file_extension": ".py",
   "mimetype": "text/x-python",
   "name": "python",
   "nbconvert_exporter": "python",
   "pygments_lexer": "ipython2",
   "version": "2.7.6"
  }
 },
 "nbformat": 4,
 "nbformat_minor": 5
}
